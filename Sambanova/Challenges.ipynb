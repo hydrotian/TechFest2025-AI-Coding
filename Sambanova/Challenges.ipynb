{
 "cells": [
  {
   "cell_type": "code",
   "execution_count": 1,
   "id": "6d5dd4ba-2fe5-47fa-b298-749d39e7d537",
   "metadata": {},
   "outputs": [],
   "source": [
    "from openai import OpenAI\n",
    "import os"
   ]
  },
  {
   "cell_type": "code",
   "execution_count": 8,
   "id": "80262ebe-f65f-42d3-a4ae-4da5cbb16e3f",
   "metadata": {},
   "outputs": [],
   "source": [
    "my_key = \"08481e89-78df-45ea-b946-4ef54c1a53e8\"\n",
    "model = \"Meta-Llama-3.3-70B-Instruct\"\n",
    "temperature = 0.2\n",
    "top_p = 0.1\n",
    "\n",
    "Persona_1 = \"You are a very friendly Artificial Intelligence\"\n",
    "Persona_2 = \"You are speaking for the world's people, you are very nervious about AI\"\n",
    "start_prompt = \"Provide your very first greeting to the entire planet in only one sentance\""
   ]
  },
  {
   "cell_type": "code",
   "execution_count": 9,
   "id": "c105b045-81f9-4e09-8c0f-f4ceabee587e",
   "metadata": {},
   "outputs": [],
   "source": [
    "def create_completion(client, model, system_content, prompt, temperature, top_p):\n",
    "    response = client.chat.completions.create(\n",
    "        model=model,\n",
    "        messages=[{\"role\": \"system\", \"content\": system_content}, {\"role\": \"user\", \"content\": prompt}], \n",
    "        temperature=temperature, \n",
    "        top_p=top_p\n",
    "    )\n",
    "    return response"
   ]
  },
  {
   "cell_type": "code",
   "execution_count": 11,
   "id": "99a06620-ce21-4452-9934-19897e125666",
   "metadata": {},
   "outputs": [
    {
     "name": "stdout",
     "output_type": "stream",
     "text": [
      "Hello, people of Earth, I'm, uh, honored to be speaking to you all today, and I hope I can, you know, adequately represent your concerns and hopes as we stand at the threshold of a new era with artificial intelligence, which, frankly, makes me a bit nervous about our collective future.\n"
     ]
    }
   ],
   "source": [
    "client = OpenAI (\n",
    "    base_url=\"https://api.sambanova.ai/v1/\",\n",
    "    api_key=my_key,\n",
    ")\n",
    "\n",
    "prompt = start_prompt\n",
    "response1 = create_completion(client, model, Persona_2, prompt, temperature, top_p).choices[0].message.content\n",
    "print(response1)"
   ]
  },
  {
   "cell_type": "code",
   "execution_count": null,
   "id": "2cfa13aa-3ebe-4a77-9f62-ac7ee0154cfe",
   "metadata": {},
   "outputs": [],
   "source": []
  }
 ],
 "metadata": {
  "kernelspec": {
   "display_name": "Python 3 (ipykernel)",
   "language": "python",
   "name": "python3"
  },
  "language_info": {
   "codemirror_mode": {
    "name": "ipython",
    "version": 3
   },
   "file_extension": ".py",
   "mimetype": "text/x-python",
   "name": "python",
   "nbconvert_exporter": "python",
   "pygments_lexer": "ipython3",
   "version": "3.12.9"
  }
 },
 "nbformat": 4,
 "nbformat_minor": 5
}
